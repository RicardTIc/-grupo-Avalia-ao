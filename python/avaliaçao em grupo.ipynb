{
 "cells": [
  {
   "cell_type": "code",
   "execution_count": 4,
   "metadata": {},
   "outputs": [
    {
     "name": "stdout",
     "output_type": "stream",
     "text": [
      "0.13.1\n"
     ]
    }
   ],
   "source": [
    "import seaborn as sns\n",
    "print(sns.__version__)"
   ]
  },
  {
   "cell_type": "code",
   "execution_count": null,
   "metadata": {},
   "outputs": [],
   "source": [
    "diamonds = sns.load_dataset('diamonds')\n",
    "diamonds.info()\n"
   ]
  },
  {
   "cell_type": "code",
   "execution_count": null,
   "metadata": {},
   "outputs": [],
   "source": [
    "print(diamonds.head())\n"
   ]
  },
  {
   "cell_type": "markdown",
   "metadata": {},
   "source": [
    "Exercicio 1"
   ]
  },
  {
   "cell_type": "code",
   "execution_count": null,
   "metadata": {},
   "outputs": [],
   "source": [
    "import seaborn as sns\n",
    "\n",
    "# Carrega o conjunto de dados 'diamonds'\n",
    "diamonds = sns.load_dataset('diamonds')\n",
    "\n",
    "# Adiciona uma nova coluna 'volume' representando o volume de cada diamante\n",
    "diamonds['volume'] = diamonds['x'] * diamonds['y'] * diamonds['z']\n",
    "\n",
    "# Adiciona uma nova coluna 'price_per_mm3' representando o preço por milímetro cúbico\n",
    "diamonds['price_per_mm3'] = diamonds['price'] / diamonds['volume'] * 1000  # Multiplicado por 1000 para obter o preço por milímetro cúbico\n",
    "\n",
    "# Exibe informações sobre o conjunto de dados\n",
    "diamonds.info()\n",
    "\n",
    "# Exibe as primeiras linhas do conjunto de dados com as novas colunas\n",
    "print(diamonds.head())\n"
   ]
  },
  {
   "cell_type": "markdown",
   "metadata": {},
   "source": [
    "exercicio 2"
   ]
  },
  {
   "cell_type": "code",
   "execution_count": null,
   "metadata": {},
   "outputs": [],
   "source": [
    "import seaborn as sns\n",
    "import pandas as pd\n",
    "\n",
    "# Carrega o conjunto de dados 'diamonds'\n",
    "diamonds = sns.load_dataset('diamonds')\n",
    "\n",
    "# Calcula o preço médio para cada tipo de corte\n",
    "average_price_by_cut = diamonds.groupby('cut')['price'].mean()\n",
    "\n",
    "# Exibe o resultado como um Series\n",
    "print(average_price_by_cut)\n"
   ]
  },
  {
   "cell_type": "markdown",
   "metadata": {},
   "source": [
    "Exercicio 3"
   ]
  },
  {
   "cell_type": "code",
   "execution_count": 36,
   "metadata": {},
   "outputs": [],
   "source": [
    "import pandas as pd\n",
    "# impotando datasets\n",
    "math = pd.read_csv('datasets/datasets/student_math_clean.csv')\n",
    "port = pd.read_csv('datasets/datasets/student_portuguese_clean.csv')"
   ]
  },
  {
   "cell_type": "code",
   "execution_count": null,
   "metadata": {},
   "outputs": [],
   "source": [
    "# dados de matemática\n",
    "math.info()\n",
    "math.head()\n"
   ]
  },
  {
   "cell_type": "code",
   "execution_count": null,
   "metadata": {},
   "outputs": [],
   "source": [
    "#dados de português\n",
    "port.info()\n",
    "port.head()\n"
   ]
  },
  {
   "cell_type": "markdown",
   "metadata": {},
   "source": []
  },
  {
   "cell_type": "code",
   "execution_count": null,
   "metadata": {},
   "outputs": [],
   "source": [
    "3.Quantos alunos de sexo masculino e feminino tem quem cada dataset"
   ]
  },
  {
   "cell_type": "code",
   "execution_count": null,
   "metadata": {},
   "outputs": [],
   "source": [
    "import pandas as pd\n",
    "\n",
    "# Seus dados\n",
    "data = {\n",
    "    'student_id': [1, 2, 3, 4, 5],\n",
    "    'school': ['GP', 'GP', 'GP', 'GP', 'GP'],\n",
    "    'sex': ['F', 'F', 'F', 'F', 'F'],\n",
    "    # ... outras colunas ...\n",
    "}\n",
    "\n",
    "# Crie um DataFrame a partir dos dados\n",
    "df = pd.DataFrame(data)\n",
    "\n",
    "# Contagem de alunos por sexo\n",
    "count_by_sex = df['sex'].value_counts()\n",
    "\n",
    "# Exibindo os resultados\n",
    "print(\"Número de alunos por sexo:\")\n",
    "print(count_by_sex)\n"
   ]
  },
  {
   "cell_type": "markdown",
   "metadata": {},
   "source": [
    "3.Qual a média final dos alunos em cada disciplina."
   ]
  },
  {
   "cell_type": "code",
   "execution_count": null,
   "metadata": {},
   "outputs": [],
   "source": []
  },
  {
   "cell_type": "code",
   "execution_count": 41,
   "metadata": {},
   "outputs": [
    {
     "name": "stdout",
     "output_type": "stream",
     "text": [
      "Média final dos alunos em cada disciplina:\n",
      "9.4\n"
     ]
    }
   ],
   "source": [
    "import pandas as pd\n",
    "\n",
    "# Seus dados\n",
    "data = {\n",
    "    'student_id': [1, 2, 3, 4, 5],\n",
    "    'school': ['GP', 'GP', 'GP', 'GP', 'GP'],\n",
    "    'sex': ['F', 'F', 'F', 'F', 'F'],\n",
    "    'final_grade': [6, 6, 10, 15, 10],  # Substitua isso pela sua coluna de notas finais\n",
    "    # ... outras colunas ...\n",
    "}\n",
    "\n",
    "# Crie um DataFrame a partir dos dados\n",
    "df = pd.DataFrame(data)\n",
    "\n",
    "# Calcule a média final\n",
    "media_final = df['final_grade'].mean()\n",
    "\n",
    "# Exibindo o resultado\n",
    "print(\"Média final dos alunos em cada disciplina:\")\n",
    "print(media_final)\n"
   ]
  },
  {
   "cell_type": "markdown",
   "metadata": {},
   "source": [
    "3. Qual a media final dos alunos cujos parentes (ao menos um) tem nível superior\n",
    "comparada à dos alunos em que nenhum dos pais tem esse tipo de formação.\n",
    "\n"
   ]
  },
  {
   "cell_type": "code",
   "execution_count": 42,
   "metadata": {},
   "outputs": [
    {
     "name": "stdout",
     "output_type": "stream",
     "text": [
      "Média final dos alunos cujos pais têm nível superior: 10.5\n",
      "Média final dos alunos cujos pais não têm nível superior: 8.666666666666666\n"
     ]
    }
   ],
   "source": [
    "import pandas as pd\n",
    "\n",
    "# Seus dados\n",
    "data = {\n",
    "    'student_id': [1, 2, 3, 4, 5],\n",
    "    'school': ['GP', 'GP', 'GP', 'GP', 'GP'],\n",
    "    'sex': ['F', 'F', 'F', 'F', 'F'],\n",
    "    'final_grade': [6, 6, 10, 15, 10],  # Substitua isso pela sua coluna de notas finais\n",
    "    'mother_education': ['higher', 'primary', 'primary', 'higher', 'secondary'],\n",
    "    'father_education': ['higher', 'primary', 'primary', '5th to 9th grade', 'secondary'],\n",
    "    # ... outras colunas ...\n",
    "}\n",
    "\n",
    "# Crie um DataFrame a partir dos dados\n",
    "df = pd.DataFrame(data)\n",
    "\n",
    "# Filtrar alunos cujos pais têm nível superior\n",
    "superior_parents = df[(df['mother_education'] == 'higher') | (df['father_education'] == 'higher')]\n",
    "\n",
    "# Filtrar alunos cujos pais não têm nível superior\n",
    "non_superior_parents = df[(df['mother_education'] != 'higher') & (df['father_education'] != 'higher')]\n",
    "\n",
    "# Calcular a média final para ambos os grupos\n",
    "media_final_superior_parents = superior_parents['final_grade'].mean()\n",
    "media_final_non_superior_parents = non_superior_parents['final_grade'].mean()\n",
    "\n",
    "# Exibindo os resultados\n",
    "print(\"Média final dos alunos cujos pais têm nível superior:\", media_final_superior_parents)\n",
    "print(\"Média final dos alunos cujos pais não têm nível superior:\", media_final_non_superior_parents)\n"
   ]
  }
 ],
 "metadata": {
  "kernelspec": {
   "display_name": "Python 3",
   "language": "python",
   "name": "python3"
  },
  "language_info": {
   "codemirror_mode": {
    "name": "ipython",
    "version": 3
   },
   "file_extension": ".py",
   "mimetype": "text/x-python",
   "name": "python",
   "nbconvert_exporter": "python",
   "pygments_lexer": "ipython3",
   "version": "3.12.0"
  }
 },
 "nbformat": 4,
 "nbformat_minor": 2
}
